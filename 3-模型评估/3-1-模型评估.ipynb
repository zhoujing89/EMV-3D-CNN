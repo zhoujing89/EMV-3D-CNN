{
 "cells": [
  {
   "cell_type": "code",
   "execution_count": 1,
   "id": "1b818402",
   "metadata": {},
   "outputs": [],
   "source": [
    "from utils_2 import *\n",
    "from keras.models import load_model\n",
    "import matplotlib.pyplot as plt\n",
    "from glob import glob\n",
    "import os\n",
    "import pandas as pd \n",
    "import numpy as np\n",
    "from sklearn.metrics import confusion_matrix,plot_roc_curve,auc,roc_auc_score,roc_curve\n",
    "from sklearn.utils.multiclass import unique_labels"
   ]
  },
  {
   "cell_type": "code",
   "execution_count": 2,
   "id": "d58d53c1",
   "metadata": {},
   "outputs": [],
   "source": [
    "def plot_confusion_matrix(y_true, y_pred, classes,\n",
    "                          normalize=False,\n",
    "                          title=None,\n",
    "                          cmap=plt.cm.Blues):\n",
    "    \"\"\"\n",
    "    This function prints and plots the confusion matrix.\n",
    "    Normalization can be applied by setting `normalize=True`.\n",
    "    \"\"\"\n",
    "    if not title:\n",
    "        if normalize:\n",
    "            title = 'Normalized confusion matrix'\n",
    "        else:\n",
    "            title = 'Confusion matrix'\n",
    "\n",
    "    # Compute confusion matrix\n",
    "    cm = confusion_matrix(y_true, y_pred)\n",
    "    # Only use the labels that appear in the data\n",
    "    classes = classes[unique_labels(y_true, y_pred)]\n",
    "    if normalize:\n",
    "        cm = cm.astype('float') / cm.sum(axis=1)[:, np.newaxis]\n",
    "        #print(\"Normalized confusion matrix\")\n",
    "    else:\n",
    "        pass\n",
    "        #print('Confusion matrix, without normalization')\n",
    "\n",
    "    #print(cm)\n",
    "    fig, ax = plt.subplots()\n",
    "    im = ax.imshow(cm, interpolation='nearest', cmap=cmap)\n",
    "    ax.figure.colorbar(im, ax=ax)\n",
    "    # We want to show all ticks...\n",
    "    ax.set(xticks=np.arange(cm.shape[1]),\n",
    "           yticks=np.arange(cm.shape[0]),\n",
    "           # ... and label them with the respective list entries\n",
    "           xticklabels=classes, yticklabels=classes,\n",
    "           title=title,\n",
    "           ylabel='True label',\n",
    "           xlabel='Predicted label')\n",
    "\n",
    "    ax.set_ylim(len(classes)-0.5, -0.5)\n",
    "\n",
    "    # Rotate the tick labels and set their alignment.\n",
    "    plt.setp(ax.get_xticklabels(), rotation=45, ha=\"right\",\n",
    "             rotation_mode=\"anchor\")\n",
    "\n",
    "    # Loop over data dimensions and create text annotations.\n",
    "    fmt = '.2f' if normalize else 'd'\n",
    "    thresh = cm.max() / 2.\n",
    "    for i in range(cm.shape[0]):\n",
    "        for j in range(cm.shape[1]):\n",
    "            ax.text(j, i, format(cm[i, j], fmt),\n",
    "                    ha=\"center\", va=\"center\",\n",
    "                    color=\"white\" if cm[i, j] > thresh else \"black\")\n",
    "    fig.tight_layout()\n",
    "    return ax\n"
   ]
  },
  {
   "cell_type": "code",
   "execution_count": 3,
   "id": "468bad0c",
   "metadata": {},
   "outputs": [],
   "source": [
    "# KS法\n",
    "def Find_Optimal_Cutoff_ks(target, predicted):\n",
    "    \"\"\" Find the optimal probability cutoff point for a classification model related to event rate\n",
    "    Parameters\n",
    "    ----------\n",
    "    target : Matrix with dependent or target data, where rows are observations\n",
    "\n",
    "    predicted : Matrix with predicted data, where rows are observations\n",
    "\n",
    "    Returns\n",
    "    -------     \n",
    "    list type, with optimal cutoff value\n",
    "        \n",
    "    \"\"\"\n",
    "    fpr, tpr, threshold = roc_curve(target, predicted)\n",
    "    i = np.arange(len(tpr)) \n",
    "    roc = pd.DataFrame({'tf' : pd.Series(tpr-(1-fpr), index=i), 'threshold' : pd.Series(threshold, index=i)})\n",
    "    roc_t = roc.iloc[(roc.tf-0).abs().argsort()[:1]]\n",
    "\n",
    "    return list(roc_t['threshold']) \n",
    "\n"
   ]
  },
  {
   "cell_type": "code",
   "execution_count": 4,
   "id": "c30f6ba0",
   "metadata": {},
   "outputs": [],
   "source": [
    "# 约登指数\n",
    "def sensivity_specifity_cutoff(y_true, y_score):\n",
    "    '''Find data-driven cut-off for classification\n",
    "    \n",
    "    Cut-off is determied using Youden's index defined as sensitivity + specificity - 1.\n",
    "    \n",
    "    Parameters\n",
    "    ----------\n",
    "    \n",
    "    y_true : array, shape = [n_samples]\n",
    "        True binary labels.\n",
    "        \n",
    "    y_score : array, shape = [n_samples]\n",
    "        Target scores, can either be probability estimates of the positive class,\n",
    "        confidence values, or non-thresholded measure of decisions (as returned by\n",
    "        “decision_function” on some classifiers).\n",
    "        \n",
    "    References\n",
    "    ----------\n",
    "    \n",
    "    Ewald, B. (2006). Post hoc choice of cut points introduced bias to diagnostic research.\n",
    "    Journal of clinical epidemiology, 59(8), 798-801.\n",
    "    \n",
    "    Steyerberg, E.W., Van Calster, B., & Pencina, M.J. (2011). Performance measures for\n",
    "    prediction models and markers: evaluation of predictions and classifications.\n",
    "    Revista Espanola de Cardiologia (English Edition), 64(9), 788-794.\n",
    "    \n",
    "    Jiménez-Valverde, A., & Lobo, J.M. (2007). Threshold criteria for conversion of probability\n",
    "    of species presence to either–or presence–absence. Acta oecologica, 31(3), 361-369.\n",
    "    '''\n",
    "    fpr, tpr, thresholds = roc_curve(y_true, y_score)\n",
    "    idx = np.argmax(tpr - fpr)\n",
    "    return thresholds[idx]"
   ]
  },
  {
   "cell_type": "markdown",
   "id": "ad1bc8d8",
   "metadata": {},
   "source": [
    "## 测试集定义-通用"
   ]
  },
  {
   "cell_type": "code",
   "execution_count": 5,
   "id": "33daad07",
   "metadata": {},
   "outputs": [
    {
     "name": "stdout",
     "output_type": "stream",
     "text": [
      "147\n"
     ]
    }
   ],
   "source": [
    "# 给定测试集患者id----需手动——注意与模型训练保持不变\n",
    "test_id = list(range(285,293))\n",
    "test_id.extend(list(range(419,439)))\n",
    "test_id.extend(list(range(1,84)))\n",
    "test_id.extend(list(range(439,473)))\n",
    "test_id.extend([259,294])\n",
    "print(len(test_id))"
   ]
  },
  {
   "cell_type": "code",
   "execution_count": 6,
   "id": "8d4d39be",
   "metadata": {},
   "outputs": [],
   "source": [
    "def Evaluate(model_stage, adr_list, Size_list):\n",
    "    model_name_list = ['Inception', 'Vgg', 'Resnet']\n",
    "    # 计算预测值\n",
    "    ## Incpt = 1\n",
    "    model_name = 1\n",
    "    print('Stage: ', model_stage)\n",
    "    print('Model: ', model_name_list[model_name-1])\n",
    "    print('View: ',Size_list[model_name-1])\n",
    "    score_1, Y_true = score_predict(model_name,model_stage,adr_list[model_name-1],Size_list[model_name-1])\n",
    "    ## Vgg = 2\n",
    "    model_name = 2\n",
    "    print('Model: ', model_name_list[model_name-1])\n",
    "    print('View: ',Size_list[model_name-1])\n",
    "    score_2, Y_true = score_predict(model_name,model_stage,adr_list[model_name-1],Size_list[model_name-1])\n",
    "    ## Res = 3\n",
    "    model_name = 3\n",
    "    print('Model: ', model_name_list[model_name-1])\n",
    "    print('View: ',Size_list[model_name-1])\n",
    "    score_3, Y_true = score_predict(model_name,model_stage,adr_list[model_name-1],Size_list[model_name-1])\n",
    "    # 计算评价指标\n",
    "    criteria([score_1,score_2,score_3],Y_true)"
   ]
  },
  {
   "cell_type": "code",
   "execution_count": 7,
   "id": "61eb76b2",
   "metadata": {},
   "outputs": [],
   "source": [
    "def score_predict(model_name, model_stage, model_adr, Size, \n",
    "            data_file = '/course75/RealData/', datflag_file = 'datflag636.csv'):\n",
    "    # model_name使用模型：1为Inception，2为vgg，3为resnet\n",
    "    # model_stage任务阶段\n",
    "    # data文件所在位置前缀，默认为空，若非空，以/结尾\n",
    "    # data_file = '/course75/RealData/'\n",
    "    # datflag_file csv文件所在位置\n",
    "    # 分类类别\n",
    "    Class_num = get_task(model_stage)\n",
    "    # 测试集batchsize需设置为1\n",
    "    params_val = {'dim': (Size[1],Size[1],Size[1]),\n",
    "              'batch_size': 1,\n",
    "              'n_classes': Class_num,\n",
    "              'n_channels': 3,\n",
    "              'shuffle': False,\n",
    "              'Size': [Size[0],Size[1],Size[2]],\n",
    "              'data_file': data_file}\n",
    "    partition, labels=get_par_lab(datflag_file=datflag_file, data_file=data_file, stage = model_stage, test_id=test_id)\n",
    "    print('train length: ',len(partition['train']))\n",
    "    print('test length: ',len(partition['test']))\n",
    "    print('label length: ',len(labels))\n",
    "    # Generators——仅生成测试集的生成器\n",
    "    validation_generator = DataGenerator(partition['test'], labels, **params_val)\n",
    "    # 读取模型\n",
    "    model = load_model(model_adr)\n",
    "    # 存储三个模型预测结果\n",
    "    score = []\n",
    "    Y_true = []\n",
    "    for X_pre, Y_pre in validation_generator:    \n",
    "        score.append(model.predict(X_pre)[0])\n",
    "        Y_true.append(Y_pre)\n",
    "    return score, Y_true"
   ]
  },
  {
   "cell_type": "code",
   "execution_count": 15,
   "id": "9a1ea464",
   "metadata": {},
   "outputs": [],
   "source": [
    "def Plot_ROC(Y_true_list,Y_score):\n",
    "    fpr, tpr, thresholds = roc_curve(Y_true_list, Y_score) \n",
    "    roc_auc=roc_auc_score(Y_true_list, Y_score)\n",
    "    plt.figure(figsize=(5,4))\n",
    "    lw = 2\n",
    "    plt.plot(fpr, tpr, color='darkorange',\n",
    "             lw=lw, label='Our model (AUC %0.4f)' % roc_auc)\n",
    "    plt.plot([0, 1], [0, 1], color='navy', lw=lw, linestyle='--')\n",
    "    plt.xlim([0.0, 1.0])\n",
    "    plt.ylim([0.0, 1.0])\n",
    "    plt.xlabel('Sensitivity')\n",
    "    plt.ylabel('1-Specificity')\n",
    "    plt.legend(frameon=False, loc=\"lower right\")\n",
    "    plt.grid(linestyle='-.')\n",
    "    plt.savefig(model_stage+'_ROC.pdf', bbox_inches='tight')\n",
    "    plt.show()"
   ]
  },
  {
   "cell_type": "code",
   "execution_count": 9,
   "id": "8302e45c",
   "metadata": {},
   "outputs": [],
   "source": [
    "def criteria(score_list, Y_true):\n",
    "    # 使用投票法\n",
    "    score = np.sum(score_list, axis = 0)/3\n",
    "    # 计算真实Y和预测Y\n",
    "    Y_true_list=[]\n",
    "    for i in range(len(Y_true)):\n",
    "        temp=list(Y_true[i][0])\n",
    "        Y_true_list.append(temp.index(max(temp)))\n",
    "    Y_hat = []\n",
    "    Y_score = []\n",
    "    for i in range(len(score)):\n",
    "        Y_hat.append(list(score[i]).index(max(score[i])))\n",
    "        Y_score.append(score[i][1])\n",
    "    if model_stage == 'task3':\n",
    "        # 混淆矩阵\n",
    "        cm = confusion_matrix(Y_true_list, Y_hat,labels = [0,1,2])\n",
    "        class_names = np.array([\"Grade 1\",\"Grade 2\",\"Grade 3\"]) #按你的实际需要修改名称\n",
    "        plot_confusion_matrix(Y_true_list, Y_hat, classes=class_names, normalize=False) \n",
    "        print('Acc:',sum(1 for x,y in zip(Y_true_list,Y_hat) if x == y) / len(Y_true_list))       \n",
    "    else:\n",
    "        # 集成模型的AUC和ROC\n",
    "        print('AUC:',roc_auc_score(Y_true_list, Y_score))\n",
    "        #fpr, tpr, thresholds = roc_curve(Y_true_list, Y_score) \n",
    "        Plot_ROC(Y_true_list,Y_score)\n",
    "        #plt.plot (fpr, tpr, label='ROC')\n",
    "        #plt.xlabel('FPR')\n",
    "        #plt.ylabel('TPR')\n",
    "        # 正例比例\n",
    "        print('正例比例:' +str(sum(Y_true_list)/len(Y_true_list)))\n",
    "        # 混淆矩阵\n",
    "        #multi_confusion(Y_true_list,Y_score,Y_hat,1)\n",
    "        #multi_confusion(Y_true_list,Y_score,Y_hat,2)\n",
    "        #multi_confusion(Y_true_list,Y_score,Y_hat,3)\n",
    "        multi_confusion(Y_true_list,Y_score,Y_hat,4)\n",
    "       # multi_confusion(Y_true_list,Y_score,Y_hat,5)"
   ]
  },
  {
   "cell_type": "code",
   "execution_count": 10,
   "id": "4c937352",
   "metadata": {},
   "outputs": [],
   "source": [
    "#Find_Optimal_Cutoff(Y_true_list, Y_score)\n",
    "# 0.5阈值：mode=0\n",
    "# 默认最佳阈值：mode=1\n",
    "# KS最佳阈值：mode=2\n",
    "def multi_confusion(Y_true_list,Y_score, Y_hat, mode):\n",
    "    fpr, tpr, thresholds = roc_curve(Y_true_list, Y_score) \n",
    "    i = np.arange(len(tpr)) # index for df\n",
    "    roc = pd.DataFrame({'fpr' : pd.Series(fpr, index=i),'tpr' : pd.Series(tpr, index = i), '1-fpr' : pd.Series(1-fpr, index = i), 'tf' : pd.Series(tpr - (1-fpr), index = i), 'thresholds' : pd.Series(thresholds, index = i)})\n",
    "    if mode == 1:\n",
    "        # 0.5阈值\n",
    "        print('---------------------------0.5阈值---------------------------')\n",
    "        cm = confusion_matrix(Y_true_list, Y_hat,labels = [0,1])\n",
    "        if model_stage == 'task1':\n",
    "            class_names = np.array([\"Benign\",\"Malignance\"]) #按你的实际需要修改名称\n",
    "        if model_stage == 'task2':\n",
    "            class_names = np.array([\"Pre-invasive\",\"Invasive\"]) #按你的实际需要修改名称\n",
    "        plot_confusion_matrix(Y_true_list, Y_hat, classes=class_names, normalize=False)\n",
    "        plt.show()\n",
    "        print('Acc:',sum(1 for x,y in zip(Y_true_list,Y_hat) if x == y) / len(Y_true_list))\n",
    "        print('灵敏度:',cm[1][1]/(cm[1][1]+cm[1][0]))\n",
    "        print('特异度:',cm[0][0]/(cm[0][1]+cm[0][0]))\n",
    "        print('PPV:',cm[1][1]/(cm[1][1]+cm[0][1])) # TP/(TP+FP)\n",
    "        print('NPV:',cm[0][0]/(cm[0][0]+cm[1][0]))\n",
    "        print('F1:',2*cm[1][1]/(2*cm[1][1]+cm[0][1]+cm[1][0]))\n",
    "    else:\n",
    "        if mode==2:\n",
    "            print('---------------------------默认最佳阈值---------------------------')\n",
    "            best_thresholds=float(roc.iloc[(roc.tf-0).abs().argsort()[:1]]['thresholds'])\n",
    "            print('默认最佳阈值：',best_thresholds)\n",
    "        elif mode==3:\n",
    "            print('---------------------------KS最佳阈值---------------------------')\n",
    "            best_thresholds = Find_Optimal_Cutoff_ks(Y_true_list, Y_score)\n",
    "            print('KS最佳阈值：',best_thresholds)\n",
    "        elif mode==4:\n",
    "            print('---------------------------Youden最佳阈值---------------------------')\n",
    "            best_thresholds = sensivity_specifity_cutoff(Y_true_list, Y_score)\n",
    "            print('Youden最佳阈值：',best_thresholds)\n",
    "        elif mode==5:\n",
    "            print('---------------------------正例比例阈值---------------------------')\n",
    "            best_thresholds = sum(Y_true_list)/len(Y_true_list)\n",
    "            print('正例比例：',best_thresholds)\n",
    "        Y_hat_best = []\n",
    "        for i in range(len(Y_score)):\n",
    "            if Y_score[i]>best_thresholds:\n",
    "                Y_hat_best.append(1)\n",
    "            else:\n",
    "                Y_hat_best.append(0)  \n",
    "        # 输出混淆矩阵\n",
    "        cm = confusion_matrix(Y_true_list, Y_hat_best,labels = [0,1])\n",
    "        print(cm)\n",
    "        if model_stage == 'task1':\n",
    "            class_names = np.array([\"Benign\",\"Malignance\"]) #按你的实际需要修改名称\n",
    "        if model_stage == 'task2':\n",
    "            class_names = np.array([\"Pre-invasive\",\"Invasive\"]) #按你的实际需要修改名称\n",
    "        plot_confusion_matrix(Y_true_list, Y_hat_best, classes=class_names, normalize=False)\n",
    "        plt.savefig(model_stage+'-'+str(mode)+'.pdf', bbox_inches='tight')\n",
    "        plt.show()\n",
    "        print('Acc:',sum(1 for x,y in zip(Y_true_list,Y_hat_best) if x == y) / len(Y_true_list))\n",
    "        print('灵敏度:',cm[1][1]/(cm[1][1]+cm[1][0]))\n",
    "        print('特异度:',cm[0][0]/(cm[0][1]+cm[0][0]))\n",
    "        print('PPV:',cm[1][1]/(cm[1][1]+cm[0][1])) # TP/(TP+FP)\n",
    "        print('NPV:',cm[0][0]/(cm[0][0]+cm[1][0]))\n",
    "        print('F1:',2*cm[1][1]/(2*cm[1][1]+cm[0][1]+cm[1][0]))\n",
    "    "
   ]
  },
  {
   "cell_type": "markdown",
   "id": "748b8b95",
   "metadata": {},
   "source": [
    "# Task1"
   ]
  },
  {
   "cell_type": "code",
   "execution_count": 11,
   "id": "f49ed435",
   "metadata": {},
   "outputs": [],
   "source": [
    "# 当前阶段\n",
    "model_stage = 'task1'\n",
    "# 各模型所在位置\n",
    "Incpt_file_adr = 'model-cut2/'+model_stage+'/'+'Inception_60_Epoch.41-0.8504.h5'\n",
    "Vgg_file_adr = 'model-cut2/'+model_stage+'/'+'Vgg_40_Epoch.08-0.8419.h5'\n",
    "Res_file_adr = 'model-cut2/'+model_stage+'/'+'Resnet_60_Epoch.54-0.8590.h5'\n",
    "adr_list = [Incpt_file_adr, Vgg_file_adr, Res_file_adr]\n",
    "# 目标视野\n",
    "Size_list = [[80, 60, 40], [60, 40, 20], [80, 60, 40]]"
   ]
  },
  {
   "cell_type": "code",
   "execution_count": 12,
   "id": "f3ac1275",
   "metadata": {
    "scrolled": true
   },
   "outputs": [
    {
     "name": "stdout",
     "output_type": "stream",
     "text": [
      "Stage:  task1\n",
      "Model:  Inception\n",
      "View:  [80, 60, 40]\n",
      "Current task stage: task1\n",
      "train length:  13602\n",
      "test length:  234\n",
      "label length:  13836\n"
     ]
    },
    {
     "name": "stderr",
     "output_type": "stream",
     "text": [
      "2022-07-25 06:45:16.924876: I tensorflow/core/platform/cpu_feature_guard.cc:151] This TensorFlow binary is optimized with oneAPI Deep Neural Network Library (oneDNN) to use the following CPU instructions in performance-critical operations:  AVX2 AVX512F FMA\n",
      "To enable them in other operations, rebuild TensorFlow with the appropriate compiler flags.\n",
      "2022-07-25 06:45:17.706550: I tensorflow/core/common_runtime/gpu/gpu_device.cc:1525] Created device /job:localhost/replica:0/task:0/device:GPU:0 with 15401 MB memory:  -> device: 0, name: Tesla P100-SXM2-16GB, pci bus id: 0000:1e:00.0, compute capability: 6.0\n",
      "2022-07-25 06:45:27.426954: I tensorflow/stream_executor/cuda/cuda_dnn.cc:368] Loaded cuDNN version 8101\n"
     ]
    },
    {
     "name": "stdout",
     "output_type": "stream",
     "text": [
      "Model:  Vgg\n",
      "View:  [60, 40, 20]\n",
      "Current task stage: task1\n",
      "train length:  13602\n",
      "test length:  234\n",
      "label length:  13836\n",
      "Model:  Resnet\n",
      "View:  [80, 60, 40]\n",
      "Current task stage: task1\n",
      "train length:  13602\n",
      "test length:  234\n",
      "label length:  13836\n",
      "AUC: 0.8932087021258995\n"
     ]
    },
    {
     "data": {
      "image/png": "[encoded data removed]",
      "text/plain": [
       "<Figure size 288x230.4 with 1 Axes>"
      ]
     },
     "metadata": {
      "needs_background": "light"
     },
     "output_type": "display_data"
    },
    {
     "name": "stdout",
     "output_type": "stream",
     "text": [
      "正例比例:0.6709401709401709\n",
      "---------------------------Youden最佳阈值---------------------------\n",
      "Youden最佳阈值： 0.82066184\n",
      "[[ 59  18]\n",
      " [ 19 138]]\n"
     ]
    },
    {
     "data": {
      "image/png": "[encoded data removed]",
      "text/plain": [
       "<Figure size 432x288 with 2 Axes>"
      ]
     },
     "metadata": {
      "needs_background": "light"
     },
     "output_type": "display_data"
    },
    {
     "name": "stdout",
     "output_type": "stream",
     "text": [
      "Acc: 0.8418803418803419\n",
      "灵敏度: 0.8789808917197452\n",
      "特异度: 0.7662337662337663\n",
      "PPV: 0.8846153846153846\n",
      "NPV: 0.7564102564102564\n",
      "F1: 0.8817891373801917\n"
     ]
    }
   ],
   "source": [
    "# 预测函数\n",
    "Evaluate(model_stage, adr_list, Size_list)"
   ]
  },
  {
   "cell_type": "markdown",
   "id": "438fbac8",
   "metadata": {},
   "source": [
    "# Task2"
   ]
  },
  {
   "cell_type": "code",
   "execution_count": 13,
   "id": "89b77010",
   "metadata": {},
   "outputs": [],
   "source": [
    "model_stage = 'task2'\n",
    "# 各模型所在位置\n",
    "Incpt_file_adr = 'model-cut2/'+model_stage+'/'+'Inception_40_Epoch.82-0.8599.h5'\n",
    "Vgg_file_adr = 'model-cut2/'+model_stage+'/'+'Vgg_60_Epoch.17-0.8535.h5'\n",
    "Res_file_adr = 'model-cut2/'+model_stage+'/'+'Resnet_40_Epoch.09-0.8408.h5'\n",
    "adr_list = [Incpt_file_adr, Vgg_file_adr, Res_file_adr]\n",
    "# 目标视野\n",
    "Size_list = [[60, 40, 20], [80, 60, 40], [60, 40, 20]]"
   ]
  },
  {
   "cell_type": "code",
   "execution_count": 16,
   "id": "fb5d4d1d",
   "metadata": {
    "scrolled": true
   },
   "outputs": [
    {
     "name": "stdout",
     "output_type": "stream",
     "text": [
      "Stage:  task2\n",
      "Model:  Inception\n",
      "View:  [60, 40, 20]\n",
      "Current task stage: task2\n",
      "train length:  10060\n",
      "test length:  157\n",
      "label length:  10217\n",
      "Model:  Vgg\n",
      "View:  [80, 60, 40]\n",
      "Current task stage: task2\n",
      "train length:  10060\n",
      "test length:  157\n",
      "label length:  10217\n",
      "Model:  Resnet\n",
      "View:  [60, 40, 20]\n",
      "Current task stage: task2\n",
      "train length:  10060\n",
      "test length:  157\n",
      "label length:  10217\n",
      "AUC: 0.927458617332035\n"
     ]
    },
    {
     "data": {
      "image/png": "[encoded data removed]",
      "text/plain": [
       "<Figure size 360x288 with 1 Axes>"
      ]
     },
     "metadata": {
      "needs_background": "light"
     },
     "output_type": "display_data"
    },
    {
     "name": "stdout",
     "output_type": "stream",
     "text": [
      "正例比例:0.4968152866242038\n",
      "---------------------------Youden最佳阈值---------------------------\n",
      "Youden最佳阈值： 0.5623825\n",
      "[[70  9]\n",
      " [11 67]]\n"
     ]
    },
    {
     "data": {
      "image/png": "[encoded data removed]",
      "text/plain": [
       "<Figure size 432x288 with 2 Axes>"
      ]
     },
     "metadata": {
      "needs_background": "light"
     },
     "output_type": "display_data"
    },
    {
     "name": "stdout",
     "output_type": "stream",
     "text": [
      "Acc: 0.8726114649681529\n",
      "灵敏度: 0.8589743589743589\n",
      "特异度: 0.8860759493670886\n",
      "PPV: 0.881578947368421\n",
      "NPV: 0.8641975308641975\n",
      "F1: 0.8701298701298701\n"
     ]
    }
   ],
   "source": [
    "# 预测函数\n",
    "Evaluate(model_stage, adr_list, Size_list)"
   ]
  },
  {
   "cell_type": "markdown",
   "id": "a39b93f7",
   "metadata": {},
   "source": [
    "## TASK3"
   ]
  },
  {
   "cell_type": "code",
   "execution_count": 15,
   "id": "aebe82dd",
   "metadata": {},
   "outputs": [],
   "source": [
    "model_stage = 'task3'\n",
    "# 各模型所在位置\n",
    "Incpt_file_adr = 'model-cut2/'+model_stage+'/'+'Inception_60_Epoch.44-0.7105.h5'\n",
    "Vgg_file_adr = 'model-cut2/'+model_stage+'/'+'Vgg_80_Epoch.09-0.7237.h5'\n",
    "Res_file_adr = 'model-cut2/'+model_stage+'/'+'Resnet_40_Epoch.04-0.7237.h5'\n",
    "adr_list = [Incpt_file_adr, Vgg_file_adr, Res_file_adr]\n",
    "# 目标视野\n",
    "Size_list = [[80, 60, 40], [100, 80, 60], [60, 40, 20]]"
   ]
  },
  {
   "cell_type": "code",
   "execution_count": 16,
   "id": "6fba6975",
   "metadata": {},
   "outputs": [
    {
     "name": "stdout",
     "output_type": "stream",
     "text": [
      "Stage:  task3\n",
      "Model:  Inception\n",
      "View:  [80, 60, 40]\n",
      "Current task stage: task3\n",
      "train length:  4957\n",
      "test length:  76\n",
      "label length:  5033\n",
      "Model:  Vgg\n",
      "View:  [100, 80, 60]\n",
      "Current task stage: task3\n",
      "train length:  4957\n",
      "test length:  76\n",
      "label length:  5033\n",
      "Model:  Resnet\n",
      "View:  [60, 40, 20]\n",
      "Current task stage: task3\n",
      "train length:  4957\n",
      "test length:  76\n",
      "label length:  5033\n",
      "Acc: 0.7368421052631579\n"
     ]
    },
    {
     "data": {
      "image/png": "[encoded data removed]",
      "text/plain": [
       "<Figure size 432x288 with 2 Axes>"
      ]
     },
     "metadata": {
      "needs_background": "light"
     },
     "output_type": "display_data"
    }
   ],
   "source": [
    "# 预测函数\n",
    "Evaluate(model_stage, adr_list, Size_list)"
   ]
  },
  {
   "cell_type": "code",
   "execution_count": null,
   "id": "2276238f",
   "metadata": {},
   "outputs": [],
   "source": []
  }
 ],
 "metadata": {
  "kernelspec": {
   "display_name": "myconda",
   "language": "python",
   "name": "myconda"
  },
  "language_info": {
   "codemirror_mode": {
    "name": "ipython",
    "version": 3
   },
   "file_extension": ".py",
   "mimetype": "text/x-python",
   "name": "python",
   "nbconvert_exporter": "python",
   "pygments_lexer": "ipython3",
   "version": "3.9.12"
  }
 },
 "nbformat": 4,
 "nbformat_minor": 5
}
